{
 "cells": [
  {
   "cell_type": "markdown",
   "metadata": {},
   "source": [
    "# Physics 240 \n",
    "## Intermediate Physics Laboratory\n",
    "## FINAL EXAM\n",
    "\n",
    "### Instructions: \n",
    "Answer the following questions and typeset your answers within this notebook, \n",
    "using a mix of markdown and LaTeX code. Some of your work will likely be done\n",
    "by hand; for this work, make sure to turn in these calculations, but still put the \n",
    "answers in this Jupyter Notebook. \n",
    "\n",
    "Follow the steps below and answer the questions as indicated."
   ]
  },
  {
   "cell_type": "code",
   "execution_count": 1,
   "metadata": {
    "collapsed": false
   },
   "outputs": [
    {
     "data": {
      "text/html": [
       "<link href='http://fonts.googleapis.com/css?family=Fenix' rel='stylesheet' type='text/css'>\n",
       "<link href='http://fonts.googleapis.com/css?family=Alegreya+Sans:100,300,400,500,700,800,900,100italic,300italic,400italic,500italic,700italic,800italic,900italic' rel='stylesheet' type='text/css'>\n",
       "<link href='http://fonts.googleapis.com/css?family=Source+Code+Pro:300,400' rel='stylesheet' type='text/css'>\n",
       "<style>\n",
       "\n",
       "@font-face {\n",
       "    font-family: \"Computer Modern\";\n",
       "    src: url('http://mirrors.ctan.org/fonts/cm-unicode/fonts/otf/cmunss.otf');\n",
       "}\n",
       "\n",
       "\n",
       "#notebook_panel { /* main background */\n",
       "    background: rgb(245,245,245);\n",
       "}\n",
       "\n",
       "div.cell { /* set cell width */\n",
       "    width: 800px;\n",
       "}\n",
       "\n",
       "div #notebook { /* centre the content */\n",
       "    background: #fff; /* white background for content */\n",
       "    width: 1000px;\n",
       "    margin: auto;\n",
       "    padding-left: 0em;\n",
       "}\n",
       "\n",
       "#notebook li { /* More space between bullet points */\n",
       "margin-top:0.8em;\n",
       "}\n",
       "\n",
       "/* draw border around running cells */\n",
       "div.cell.border-box-sizing.code_cell.running {\n",
       "    border: 1px solid #111;\n",
       "}\n",
       "\n",
       "/* Put a solid color box around each cell and its output, visually linking them*/\n",
       "div.cell.code_cell {\n",
       "    background-color: rgb(256,256,256);\n",
       "    border-radius: 0px;\n",
       "    padding: 0.5em;\n",
       "    margin-left:1em;\n",
       "    margin-top: 1em;\n",
       "}\n",
       "\n",
       "\n",
       "div.text_cell_render{\n",
       "    font-family: 'Alegreya Sans' sans-serif;\n",
       "    line-height: 140%;\n",
       "    font-size: 125%;\n",
       "    font-weight: 400;\n",
       "    width:600px;\n",
       "    margin-left:auto;\n",
       "    margin-right:auto;\n",
       "}\n",
       "\n",
       "/* Formatting for header cells */\n",
       ".text_cell_render h1 {\n",
       "    font-family: 'Alegreya Sans', sans-serif;\n",
       "    font-style:regular;\n",
       "    font-weight: 200;\n",
       "    font-size: 45pt;\n",
       "    line-height: 100%;\n",
       "    color:#CD2305;\n",
       "    margin-bottom: 0.5em;\n",
       "    margin-top: 0.5em;\n",
       "    display: block;\n",
       "}\n",
       ".text_cell_render h2 {\n",
       "    font-family: 'Fenix', serif;\n",
       "    font-size: 22pt;\n",
       "    line-height: 100%;\n",
       "    margin-bottom: 0.1em;\n",
       "    margin-top: 0.3em;\n",
       "    display: block;\n",
       "}\n",
       "\n",
       ".text_cell_render h3 {\n",
       "    font-family: 'Fenix', serif;\n",
       "    margin-top:12px;\n",
       "\tfont-size: 16pt;\n",
       "    margin-bottom: 3px;\n",
       "    font-style: regular;\n",
       "}\n",
       "\n",
       ".text_cell_render h4 {    /*Use this for captions*/\n",
       "    font-family: 'Fenix', serif;\n",
       "    font-size: 2pt;\n",
       "    text-align: center;\n",
       "    margin-top: 0em;\n",
       "    margin-bottom: 2em;\n",
       "    font-style: regular;\n",
       "}\n",
       "\n",
       ".text_cell_render h5 {  /*Use this for small titles*/\n",
       "    font-family: 'Alegreya Sans', sans-serif;\n",
       "    font-weight: 300;\n",
       "    font-size: 16pt;\n",
       "    color: #CD2305;\n",
       "    font-style: italic;\n",
       "    margin-bottom: .5em;\n",
       "    margin-top: 0.5em;\n",
       "    display: block;\n",
       "}\n",
       "\n",
       ".text_cell_render h6 { /*use this for copyright note*/\n",
       "    font-family: 'Source Code Pro', sans-serif;\n",
       "    font-weight: 300;\n",
       "    font-size: 9pt;\n",
       "    line-height: 100%;\n",
       "    color: grey;\n",
       "    margin-bottom: 1px;\n",
       "    margin-top: 1px;\n",
       "}\n",
       "\n",
       "    .CodeMirror{\n",
       "            font-family: \"Source Code Pro\";\n",
       "\t\t\tfont-size: 90%;\n",
       "    }\n",
       "/*    .prompt{\n",
       "        display: None;\n",
       "    }*/\n",
       "\n",
       "\n",
       "    .warning{\n",
       "        color: rgb( 240, 20, 20 )\n",
       "        }\n",
       "</style>\n",
       "<script>\n",
       "    MathJax.Hub.Config({\n",
       "                        TeX: {\n",
       "                           extensions: [\"AMSmath.js\"],\n",
       "                           equationNumbers: { autoNumber: \"AMS\", useLabelIds: true}\n",
       "                           },\n",
       "                tex2jax: {\n",
       "                    inlineMath: [ ['$','$'], [\"\\\\(\",\"\\\\)\"] ],\n",
       "                    displayMath: [ ['$$','$$'], [\"\\\\[\",\"\\\\]\"] ]\n",
       "                },\n",
       "                displayAlign: 'center', // Change this to 'center' to center equations.\n",
       "                \"HTML-CSS\": {\n",
       "                    styles: {'.MathJax_Display': {\"margin\": 4}}\n",
       "                }\n",
       "        });\n",
       "</script>\n"
      ],
      "text/plain": [
       "<IPython.core.display.HTML object>"
      ]
     },
     "execution_count": 1,
     "metadata": {},
     "output_type": "execute_result"
    }
   ],
   "source": [
    "## This cell installs custom CSS Cell Styles obtained from \n",
    "## Prof. Lorena Barba at https://github.com/barbagroup/AeroPython \n",
    "from IPython.core.display import HTML\n",
    "def css_styling():\n",
    "    styles = open('styles/custom.css', 'r').read()\n",
    "    return HTML(styles)\n",
    "css_styling()"
   ]
  },
  {
   "cell_type": "markdown",
   "metadata": {},
   "source": [
    "## Step 1: Create a GitHub Repository and make an initial commit.\n",
    "    a. Create a folder in your Documents folder called LastnameFirstname240FinalExam.\n",
    "    b. Create a new repository within this folder called 240FinalExam\n",
    "    c. Save this file into the above folder as LastnameFirstnameAnswers.ipynb \n",
    "    d. You should then see an uncommitted change to the 240FinalExam repository; name this \"initial commit\"\n",
    "    and publish the changes.\n",
    "    \n",
    "For example, if your name was Albert Einstein, you'd create a folder called   \n",
    "    *EinsteinAlbert240FinalExam*,   \n",
    "then you would create a new GitHub repository (within this folder) called   \n",
    "    *240FinalExam*   \n",
    "and would save this file into the folder 240FinalExam as    \n",
    "    *EinsteinAlbertFinalAnswers.ipynb*   \n",
    "and upload the file to your github account. \n",
    "\n",
    "Hint: Once you complete steps (a) and (b), you can simply close and halt this notebook (from the Jupyter Notebook file menu, and use your file system browser to drag this file into the folder 240FinalExam. Then this file's existence should show up as as an uncommitted change which you can publish (after first labelling it as the initial commit, of course). \n",
    "\n",
    "All of the above may be easily done by using a GitHub Gui Client available for OSX, Linux, and Windoze at:\n",
    "https://github.com/gitterHQ/desktop\n",
    "\n",
    "For the following questions, I encourage you to make and publish a new commit after you finish each question.\n"
   ]
  },
  {
   "cell_type": "markdown",
   "metadata": {},
   "source": [
    "# Question 1\n",
    "## Statistical Uncertainty with dropped velociraptors\n",
    "\n",
    "<img src=\"Velociraptor.jpg\" width=150 height=150>\n",
    "\n",
    "A velociraptor is dropped from a height of 10.0 $\\pm$ 0.1 meters and the fall time   \n",
    "is measured to the nearest 0.01 seconds. This *experiment* is performed a dozen times with the following drop times in seconds obtained:   \n",
    "1.22, 1.39, 1.55, 1.43, 1.11, 1.64, 1.44, 1.33, 1.55, 1.49, 1.47, 1.35   \n",
    "Calculate the mean value of the drop time and the root mean square uncertainty, $\\Delta t_{rms}$. You may use python or---if you like suffering---your calculator. "
   ]
  },
  {
   "cell_type": "markdown",
   "metadata": {},
   "source": [
    "### Solution method :\n",
    "\n",
    "The drop time will be dependant on the height, so the 10.0 $\\pm$ 0.1 m is important. Simple kinematics (ignoring air resistance) gives\n",
    "\n",
    "$x_f = x_i + v_i t + \\frac{1}{2} a t^2$\n",
    "\n",
    "This equation will be useful later. The mean of the times to be calculated will be relatively simple, such\n",
    "\n",
    "$t_{mean} = \\frac{\\sum_i^{12} t_i}{12}$\n",
    "\n",
    "The rms error will also be fairly simple, with\n",
    "\n",
    "$\\Delta t_{rms} = \\sqrt{\\frac{\\sum_i^{12}(t_i-t_{mean})^2}{12}}$\n",
    "\n",
    "\n"
   ]
  },
  {
   "cell_type": "markdown",
   "metadata": {},
   "source": [
    "### This text was written above, before I realized what the question was actually asking. I am leaving this in for futher use.\n",
    "\n",
    "We can then solve for t, getting a quadratic, which gives:\n",
    "\n",
    "$t = \\frac{-v_i \\pm \\sqrt{v_i^2 -4(\\frac{a}{2})(x_i-x_f)}}{2(\\frac{a}{2})}$\n",
    "\n",
    "With $v_i = 0$, $x_f = 0$, $x_i = 10.0$, and $a=-9.8$, that gives:\n",
    "\n",
    "$t =\\frac{ \\pm \\sqrt{2(9.8)(10.0)}}{9.8}$\n",
    "\n",
    "The negative root can be dropped, leaving us with:\n",
    "\n",
    "$t = \\frac{\\sqrt{2(9.8)(10.0)}}{9.8} = 1.42$ seconds.\n",
    "\n",
    "This value is the theoretical time it should take velociraptor to fall.\n",
    "\n",
    "We then can determine the mean time it took for the raptors to fall. From calculations below, this is 1.414 seconds."
   ]
  },
  {
   "cell_type": "code",
   "execution_count": 20,
   "metadata": {
    "collapsed": false
   },
   "outputs": [
    {
     "name": "stdout",
     "output_type": "stream",
     "text": [
      "1.42857142857\n",
      "1.41416666667\n",
      "0.141330483462\n"
     ]
    }
   ],
   "source": [
    "# Place any python code needed here.\n",
    "import numpy as np\n",
    "import matplotlib.pyplot as plt\n",
    "\n",
    "#calculations\n",
    "\n",
    "theoreticalT = np.sqrt(2*9.8*10)/(9.8)\n",
    "print(theoreticalT)\n",
    "\n",
    "\n",
    "#data\n",
    "\n",
    "dropTimes = [1.22, 1.39, 1.55, 1.43, 1.11, 1.64, 1.44, 1.33, 1.55, 1.49, 1.47, 1.35]\n",
    "meanDropTime = np.mean(dropTimes)\n",
    "print(meanDropTime)\n",
    "\n",
    "rmsErrorSum = 0\n",
    "for i in range(len(dropTimes)):\n",
    "    rmsErrorSum += (dropTimes[i]-meanDropTime)**2\n",
    "rmsError = np.sqrt((1/len(dropTimes))*rmsErrorSum)\n",
    "print(rmsError)"
   ]
  },
  {
   "cell_type": "markdown",
   "metadata": {},
   "source": [
    "### Question 1 Answer\n",
    "\n",
    "Mean time = 1.414 seconds   \n",
    "\n",
    "$\\Delta t_{rms}$ = 0.141 seconds"
   ]
  },
  {
   "cell_type": "markdown",
   "metadata": {},
   "source": [
    "# Question 2\n",
    "## Error Propagation; measuring g via dropped velociraptors\n",
    "\n",
    "Suppose you assume that the velociraptor drop experiment was used to determine the acceleration due to gravity. Using your knowledge of basic kinematics (and assuming\n",
    "no air resistance), calculate the experimental value of $g$ that you should report for this data."
   ]
  },
  {
   "cell_type": "markdown",
   "metadata": {},
   "source": [
    "### Solution Method:\n",
    "\n",
    "From above\n",
    "\n",
    "$x_f = x_i + v_i t + \\frac{1}{2} g t^2$\n",
    "\n",
    "With $v_i = 0$, $x_f = 0$, and $x_i = 10.0$, that gives:\n",
    "\n",
    "$0 = (10.0 \\pm 0.1) + \\frac{1}{2} g (t\\pm \\Delta t)^2$\n",
    "\n",
    "Solving for $g$ gives:\n",
    "\n",
    "$g = \\frac{-2(10.0 \\pm 0.1)}{(t_{mean}\\pm \\Delta t_{rms})^2}$\n",
    "\n",
    "To get our mean value for g we just take the mean values for x and t, or that\n",
    "\n",
    "$g_{mean} = \\frac{-2x_i}{t_{mean}^2} = -10.0 \\frac{m}{s^2}$\n",
    "\n",
    "To calculate the uncertainty in g we use\n",
    "\n",
    "$\\Delta g = \\sqrt{(\\frac{\\partial g}{\\partial x_i} * \\Delta x_i)^2 + (\\frac{\\partial g}{\\partial t} * \\Delta t)^2}$\n",
    "\n",
    "With\n",
    "\n",
    "$\\frac{\\partial g}{\\partial x_i} = \\frac{-2}{t^2}$\n",
    "\n",
    "and \n",
    "\n",
    "$\\frac{\\partial g}{\\partial t} = \\frac{4x_i}{t^3}$\n",
    "\n",
    "We can finally get a series of uncertainties for g for each drop. We then can average or take the maximum value as our uncertainty.\n",
    "\n",
    "From the calculations below, most of the uncertainties lie around $2 \\frac{m}{s^2}$, which would lead to me to take the uncertainty to be around that point. This uncertianty also encompasses the actual value of g."
   ]
  },
  {
   "cell_type": "code",
   "execution_count": 26,
   "metadata": {
    "collapsed": false
   },
   "outputs": [
    {
     "name": "stdout",
     "output_type": "stream",
     "text": [
      "-10.0006632384\n",
      "[3.1161653181457143, 2.1075404248826191, 1.5203820053817714, 1.9357210954314052, 4.1367712427677379, 1.2837901887317689, 1.895706936735063, 2.4055873922172211, 1.5203820053817714, 1.7113529185633256, 1.7820928807809646, 2.3003254867219645]\n",
      "Average uncertainty is  2.14298482465\n",
      "Maximum uncertainty is  4.13677124277\n"
     ]
    }
   ],
   "source": [
    "# This cell is for any needed python code. \n",
    "\n",
    "#calculate mean value for g\n",
    "meanG = (-2*(10.0))/(meanDropTime)**2\n",
    "print(meanG)\n",
    "\n",
    "#calculate uncertainty in g\n",
    "deltaG = []\n",
    "for i in range(len(dropTimes)):\n",
    "    deltaG.append(np.sqrt( (((-2)/(dropTimes[i])**2)*(0.1))**2 + (((4*10.0)/(dropTimes[i])**3)*(rmsError))**2))\n",
    "    \n",
    "print(deltaG)\n",
    "print(\"Average uncertainty is \",np.mean(deltaG))\n",
    "print(\"Maximum uncertainty is \",max(deltaG))"
   ]
  },
  {
   "cell_type": "markdown",
   "metadata": {},
   "source": [
    "### Question 2 Answer\n",
    "\n",
    "g = -10.0 $\\pm$ 2.1"
   ]
  },
  {
   "cell_type": "markdown",
   "metadata": {},
   "source": [
    "# Question 3\n",
    "## Determining g with a point mass pendulum via plotting\n",
    "\n",
    "Suppose that you measure the period of a simple pendulum as a function of length   \n",
    "and obtain the following data:   \n",
    "\n",
    "Period Values ($\\pm 0.1$ s) =  0.50, 1.00, 1.50, 2.00, 2.50, 3.00, 3.50, 4.00, 4.50.   \n",
    "Length $(\\pm 0.03)$ m =  0.010,  0.025, 0.070,  0.10,  0.140, 0.230, 0.310, 0.350, 0.500   \n",
    "\n",
    "Knowing that the period of a simple pendulum is   \n",
    "$\\displaystyle T = 2π\\sqrt{\\frac{L}{g}}$   \n",
    "and use an appropriate graph, such that the plot:   \n",
    "\n",
    "    a. gives a straight line whose slope   \n",
    "       directly gives the value of g   \n",
    "    b. shows data points with error bars   \n",
    "    c. includes axes labels and units   \n",
    "    d. includes a best fit line to the data.   \n",
    "\n",
    "Note that you might not be on the earth when conducting this experiment.\n"
   ]
  },
  {
   "cell_type": "markdown",
   "metadata": {},
   "source": [
    "### Solution method:\n",
    "\n",
    "\n",
    "From the above equation we can get\n",
    "\n",
    "$ L = g \\frac{T^2}{4\\pi^2} $\n",
    "\n",
    "This shows that if we plot L as a function of $\\frac{T^2}{4\\pi^2}$ we should get a slope of g.\n"
   ]
  },
  {
   "cell_type": "code",
   "execution_count": 50,
   "metadata": {
    "collapsed": false
   },
   "outputs": [
    {
     "data": {
      "image/png": "[encoded data removed]",
      "text/plain": [
       "<matplotlib.figure.Figure at 0x7f6eddca1198>"
      ]
     },
     "metadata": {},
     "output_type": "display_data"
    }
   ],
   "source": [
    "# place your python code here. Make sure your plot has axes labels with units!\n",
    "import numpy as np\n",
    "import matplotlib.pyplot as plt\n",
    "from scipy.optimize import curve_fit\n",
    "\n",
    "def linFit (x, m, b):\n",
    "    return m*x + b\n",
    "\n",
    "%matplotlib inline\n",
    "\n",
    "#data\n",
    "rawPeriod = [0.50, 1.00, 1.50, 2.00, 2.50, 3.00, 3.50, 4.00, 4.50]\n",
    "rawPeriod = np.array(rawPeriod)\n",
    "modPeriod = (rawPeriod**2)/(4*np.pi**2)\n",
    "modPeriodError = (0.1**2)/(4*np.pi**2)\n",
    "\n",
    "length = [0.010,  0.025, 0.070,  0.10,  0.140, 0.230, 0.310, 0.350, 0.500]\n",
    "length = np.array(length)\n",
    "lengthError = 0.03\n",
    "\n",
    "#calculate best fit line\n",
    "fitParams, fitCovar = curve_fit(linFit, modPeriod, length)\n",
    "sigma = np.sqrt([fitCovar[0,0], fitCovar[1,1]])\n",
    "x = np.linspace(min(modPeriod), max(modPeriod), 1000)\n",
    "\n",
    "#graph plotting\n",
    "plt.figure(figsize=(10,8))\n",
    "plt.title(\"Calculating g from Ideal Pendulums\", fontsize = 20)\n",
    "plt.errorbar(modPeriod, length, fmt='o', xerr = modPeriodError, yerr = lengthError, label = \"Raw Data\")\n",
    "plt.plot(x, linFit(x, fitParams[0], fitParams[1]), label = \"Best Fit Line\")\n",
    "plt.plot(0,0, color='w', label = \"g = %0.2f $\\pm$ %0.2f\"%(fitParams[0], sigma[0]))\n",
    "plt.ylabel(\"Pendulum Length (m)\", fontsize=18)\n",
    "plt.xlabel(r\"$\\frac{T^2}{4\\pi^2}$ $(s^2)$\", fontsize = 18)\n",
    "plt.legend(bbox_to_anchor = (1,0.25), fontsize=16)\n",
    "plt.show()\n"
   ]
  },
  {
   "cell_type": "markdown",
   "metadata": {},
   "source": [
    "### Question 3 Answer\n",
    "\n",
    "g $\\pm\\;\\Delta$ g = _______ $\\pm$"
   ]
  },
  {
   "cell_type": "markdown",
   "metadata": {},
   "source": [
    "# Final Step for online portion\n",
    "## Final steps, then move on to written portion\n",
    "\n",
    "Now make sure to commit your changes to your master copy, but before doing so, place a link to your repository in the next cell.   "
   ]
  },
  {
   "cell_type": "markdown",
   "metadata": {},
   "source": [
    "Repository Link = "
   ]
  },
  {
   "cell_type": "code",
   "execution_count": null,
   "metadata": {
    "collapsed": true
   },
   "outputs": [],
   "source": []
  },
  {
   "cell_type": "code",
   "execution_count": null,
   "metadata": {
    "collapsed": true
   },
   "outputs": [],
   "source": []
  }
 ],
 "metadata": {
  "kernelspec": {
   "display_name": "Python 3",
   "language": "python",
   "name": "python3"
  },
  "language_info": {
   "codemirror_mode": {
    "name": "ipython",
    "version": 3
   },
   "file_extension": ".py",
   "mimetype": "text/x-python",
   "name": "python",
   "nbconvert_exporter": "python",
   "pygments_lexer": "ipython3",
   "version": "3.5.1"
  }
 },
 "nbformat": 4,
 "nbformat_minor": 0
}
